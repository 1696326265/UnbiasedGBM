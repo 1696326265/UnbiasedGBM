{
 "cells": [
  {
   "cell_type": "code",
   "execution_count": 1,
   "id": "13856f0f",
   "metadata": {},
   "outputs": [],
   "source": [
    "import pandas as pd\n",
    "import numpy as np\n",
    "import random\n",
    "import lightgbm as lgb\n",
    "from copy import deepcopy\n",
    "import UnbiasedGain"
   ]
  },
  {
   "cell_type": "code",
   "execution_count": null,
   "id": "3517200a",
   "metadata": {},
   "outputs": [],
   "source": []
  },
  {
   "cell_type": "code",
   "execution_count": 2,
   "id": "0a631334",
   "metadata": {},
   "outputs": [],
   "source": [
    "def gen_data(N, rho, task):\n",
    "    X1 = np.random.randn(N)\n",
    "    X2 = [random.randint(0,1) for i in range(N)]\n",
    "    X3 = [random.randint(0,3) for i in range(N)]\n",
    "    X4 = [random.randint(0,9) for i in range(N)]\n",
    "    X5 = [random.randint(0,19) for i in range(N)]\n",
    "    y = rho*(np.array(X2)-0.5) + np.random.randn(N) if task=='regression' else [(i + (1 if random.random()>(1+rho)/2 else 0) )%2 for i in X2]\n",
    "\n",
    "    X_train = pd.DataFrame({'X1':X1, 'X2':X2, 'X3':X3, 'X4':X4, 'X5':X5})\n",
    "    y_train = pd.Series(y)\n",
    "\n",
    "    return X_train, y_train"
   ]
  },
  {
   "cell_type": "code",
   "execution_count": null,
   "id": "e5e6f78a",
   "metadata": {},
   "outputs": [],
   "source": []
  },
  {
   "cell_type": "code",
   "execution_count": 5,
   "id": "392c347e",
   "metadata": {},
   "outputs": [],
   "source": [
    "import tqdm\n",
    "import  matplotlib.pyplot as plt"
   ]
  },
  {
   "cell_type": "code",
   "execution_count": 6,
   "id": "afbe6d88",
   "metadata": {
    "scrolled": true
   },
   "outputs": [
    {
     "name": "stderr",
     "output_type": "stream",
     "text": [
      "100%|██████████| 100/100 [02:00<00:00,  1.20s/it]\n",
      "100%|██████████| 100/100 [02:01<00:00,  1.21s/it]\n"
     ]
    }
   ],
   "source": [
    "random.seed(2333)\n",
    "np.random.seed(666)\n",
    "\n",
    "map_results = {}\n",
    "\n",
    "rho = 0.\n",
    "for task in ['regression', 'binclass']:\n",
    "    one_results = []\n",
    "    for cases in tqdm.tqdm(range(100)):\n",
    "        X_train, y_train = gen_data(1000, rho, task)\n",
    "        X_test, y_test = gen_data(1000, rho, task)\n",
    "        for c in X_train.columns:\n",
    "            if 'int' in str(X_train[c].dtype):\n",
    "                X_train[c] = X_train[c].astype('category')\n",
    "                X_test[c] = X_test[c].astype('category')\n",
    "        model = (lgb.LGBMRegressor if task=='regression' else lgb.LGBMClassifier)(n_estimators=1, learning_rate=1)\n",
    "        model.fit(X_train, y_train.values)\n",
    "        pred = model.predict(X_test) if task=='regression' else model.predict_proba(X_test)[:,1]\n",
    "#         print(model.feature_importances_)\n",
    "        losstool = UnbiasedGain.MSE_tool() if task=='regression' else UnbiasedGain.logloss_tool()\n",
    "#         print(UnbiasedGain.calc_gain(model, X_train, y_train, X_test, y_test, losstool, biased=True))\n",
    "#         print(UnbiasedGain.calc_gain(model, X_train, y_train, X_test, y_test, losstool))\n",
    "        one_results.append( (UnbiasedGain.calc_gain(model, X_train, y_train, X_test, y_test, losstool, biased=True),\n",
    "                            UnbiasedGain.calc_gain(model, X_train, y_train, X_test, y_test, losstool, biased=False)) )\n",
    "    map_results[task] = one_results"
   ]
  },
  {
   "cell_type": "code",
   "execution_count": 14,
   "id": "711067a0",
   "metadata": {},
   "outputs": [
    {
     "data": {
      "image/png": "[encoded data removed]",
      "text/plain": [
       "<Figure size 432x288 with 1 Axes>"
      ]
     },
     "metadata": {
      "needs_background": "light"
     },
     "output_type": "display_data"
    },
    {
     "data": {
      "image/png": "[encoded data removed]",
      "text/plain": [
       "<Figure size 432x288 with 1 Axes>"
      ]
     },
     "metadata": {
      "needs_background": "light"
     },
     "output_type": "display_data"
    },
    {
     "data": {
      "image/png": "[encoded data removed]",
      "text/plain": [
       "<Figure size 432x288 with 1 Axes>"
      ]
     },
     "metadata": {
      "needs_background": "light"
     },
     "output_type": "display_data"
    },
    {
     "data": {
      "image/png": "[encoded data removed]",
      "text/plain": [
       "<Figure size 432x288 with 1 Axes>"
      ]
     },
     "metadata": {
      "needs_background": "light"
     },
     "output_type": "display_data"
    }
   ],
   "source": [
    "for task in ['regression', 'binclass']:\n",
    "    one_results = map_results[task]\n",
    "    for pic in ['biased', 'ours']:\n",
    "        values = [[] for i in range(5)]\n",
    "        for biased, ours in one_results:\n",
    "            for i in range(5):\n",
    "                values[i].append(biased[i] if pic=='biased' else ours[i])\n",
    "        plt.boxplot(values,\n",
    "                    medianprops={'color': 'red', 'linewidth': '1.5'},\n",
    "                    meanline=True,\n",
    "                    showmeans=False,\n",
    "                    meanprops={'color': 'blue', 'ls': '--', 'linewidth': '1.5'},\n",
    "                    flierprops={\"marker\": \"o\", \"markerfacecolor\": \"red\", \"markersize\": 6},\n",
    "                    labels=[f'X{i}' for i in range(1,6)])\n",
    "        plt.show()"
   ]
  },
  {
   "cell_type": "code",
   "execution_count": null,
   "id": "3534a044",
   "metadata": {},
   "outputs": [],
   "source": []
  },
  {
   "cell_type": "code",
   "execution_count": 16,
   "id": "8715abb7",
   "metadata": {},
   "outputs": [
    {
     "name": "stdout",
     "output_type": "stream",
     "text": [
      "0.0\n"
     ]
    },
    {
     "name": "stderr",
     "output_type": "stream",
     "text": [
      "100%|██████████| 100/100 [02:02<00:00,  1.23s/it]\n",
      "100%|██████████| 100/100 [02:00<00:00,  1.21s/it]\n"
     ]
    },
    {
     "name": "stdout",
     "output_type": "stream",
     "text": [
      "0.1\n"
     ]
    },
    {
     "name": "stderr",
     "output_type": "stream",
     "text": [
      "100%|██████████| 100/100 [02:01<00:00,  1.22s/it]\n",
      "100%|██████████| 100/100 [02:00<00:00,  1.21s/it]\n"
     ]
    },
    {
     "name": "stdout",
     "output_type": "stream",
     "text": [
      "0.2\n"
     ]
    },
    {
     "name": "stderr",
     "output_type": "stream",
     "text": [
      "100%|██████████| 100/100 [01:59<00:00,  1.20s/it]\n",
      "100%|██████████| 100/100 [02:03<00:00,  1.23s/it]\n"
     ]
    },
    {
     "name": "stdout",
     "output_type": "stream",
     "text": [
      "0.3\n"
     ]
    },
    {
     "name": "stderr",
     "output_type": "stream",
     "text": [
      "100%|██████████| 100/100 [02:00<00:00,  1.21s/it]\n",
      "100%|██████████| 100/100 [01:59<00:00,  1.19s/it]\n"
     ]
    },
    {
     "name": "stdout",
     "output_type": "stream",
     "text": [
      "0.4\n"
     ]
    },
    {
     "name": "stderr",
     "output_type": "stream",
     "text": [
      "100%|██████████| 100/100 [02:00<00:00,  1.20s/it]\n",
      "100%|██████████| 100/100 [01:58<00:00,  1.18s/it]\n"
     ]
    },
    {
     "name": "stdout",
     "output_type": "stream",
     "text": [
      "0.5\n"
     ]
    },
    {
     "name": "stderr",
     "output_type": "stream",
     "text": [
      "100%|██████████| 100/100 [02:00<00:00,  1.20s/it]\n",
      "100%|██████████| 100/100 [01:58<00:00,  1.18s/it]\n"
     ]
    },
    {
     "name": "stdout",
     "output_type": "stream",
     "text": [
      "0.6\n"
     ]
    },
    {
     "name": "stderr",
     "output_type": "stream",
     "text": [
      "100%|██████████| 100/100 [02:00<00:00,  1.21s/it]\n",
      "100%|██████████| 100/100 [01:59<00:00,  1.19s/it]\n"
     ]
    },
    {
     "name": "stdout",
     "output_type": "stream",
     "text": [
      "0.7\n"
     ]
    },
    {
     "name": "stderr",
     "output_type": "stream",
     "text": [
      "100%|██████████| 100/100 [02:00<00:00,  1.20s/it]\n",
      "100%|██████████| 100/100 [01:58<00:00,  1.18s/it]\n"
     ]
    },
    {
     "name": "stdout",
     "output_type": "stream",
     "text": [
      "0.8\n"
     ]
    },
    {
     "name": "stderr",
     "output_type": "stream",
     "text": [
      "100%|██████████| 100/100 [02:00<00:00,  1.20s/it]\n",
      "100%|██████████| 100/100 [01:58<00:00,  1.18s/it]\n"
     ]
    },
    {
     "name": "stdout",
     "output_type": "stream",
     "text": [
      "0.9\n"
     ]
    },
    {
     "name": "stderr",
     "output_type": "stream",
     "text": [
      "100%|██████████| 100/100 [01:59<00:00,  1.20s/it]\n",
      "100%|██████████| 100/100 [01:57<00:00,  1.18s/it]\n"
     ]
    },
    {
     "name": "stdout",
     "output_type": "stream",
     "text": [
      "1.0\n"
     ]
    },
    {
     "name": "stderr",
     "output_type": "stream",
     "text": [
      "100%|██████████| 100/100 [01:59<00:00,  1.19s/it]\n",
      "100%|██████████| 100/100 [00:26<00:00,  3.77it/s]\n"
     ]
    }
   ],
   "source": [
    "random.seed(2333)\n",
    "np.random.seed(666)\n",
    "\n",
    "\n",
    "rho_results = []\n",
    "\n",
    "for i_rho in range(11):\n",
    "    rho = i_rho/10\n",
    "    print(rho)\n",
    "    map_results = {}\n",
    "    for task in ['regression', 'binclass']:\n",
    "        one_results = []\n",
    "        for cases in tqdm.tqdm(range(100)):\n",
    "            X_train, y_train = gen_data(1000, rho, task)\n",
    "            X_test, y_test = gen_data(1000, rho, task)\n",
    "            for c in X_train.columns:\n",
    "                if 'int' in str(X_train[c].dtype):\n",
    "                    X_train[c] = X_train[c].astype('category')\n",
    "                    X_test[c] = X_test[c].astype('category')\n",
    "            model = (lgb.LGBMRegressor if task=='regression' else lgb.LGBMClassifier)(n_estimators=1, learning_rate=1)\n",
    "            model.fit(X_train, y_train.values)\n",
    "            pred = model.predict(X_test) if task=='regression' else model.predict_proba(X_test)[:,1]\n",
    "    #         print(model.feature_importances_)\n",
    "            losstool = UnbiasedGain.MSE_tool() if task=='regression' else UnbiasedGain.logloss_tool()\n",
    "    #         print(UnbiasedGain.calc_gain(model, X_train, y_train, X_test, y_test, losstool, biased=True))\n",
    "    #         print(UnbiasedGain.calc_gain(model, X_train, y_train, X_test, y_test, losstool))\n",
    "            one_results.append( (UnbiasedGain.calc_gain(model, X_train, y_train, X_test, y_test, losstool, biased=True),\n",
    "                                UnbiasedGain.calc_gain(model, X_train, y_train, X_test, y_test, losstool, biased=False)) )\n",
    "        map_results[task] = one_results\n",
    "    rho_results.append(map_results)"
   ]
  },
  {
   "cell_type": "code",
   "execution_count": null,
   "id": "bf4dbc6f",
   "metadata": {},
   "outputs": [],
   "source": []
  },
  {
   "cell_type": "code",
   "execution_count": 23,
   "id": "c2ee5ca2",
   "metadata": {},
   "outputs": [
    {
     "data": {
      "image/png": "[encoded data removed]",
      "text/plain": [
       "<Figure size 432x288 with 1 Axes>"
      ]
     },
     "metadata": {
      "needs_background": "light"
     },
     "output_type": "display_data"
    },
    {
     "data": {
      "image/png": "[encoded data removed]",
      "text/plain": [
       "<Figure size 432x288 with 1 Axes>"
      ]
     },
     "metadata": {
      "needs_background": "light"
     },
     "output_type": "display_data"
    },
    {
     "data": {
      "image/png": "[encoded data removed]",
      "text/plain": [
       "<Figure size 432x288 with 1 Axes>"
      ]
     },
     "metadata": {
      "needs_background": "light"
     },
     "output_type": "display_data"
    },
    {
     "data": {
      "image/png": "[encoded data removed]",
      "text/plain": [
       "<Figure size 432x288 with 1 Axes>"
      ]
     },
     "metadata": {
      "needs_background": "light"
     },
     "output_type": "display_data"
    }
   ],
   "source": [
    "for task in ['regression', 'binclass']:\n",
    "    for pic in ['biased', 'ours']:\n",
    "        for feat in range(1,6):\n",
    "            values = []\n",
    "            for i in range(11):\n",
    "                tong = []\n",
    "                for biased, ours in rho_results[i][task]:\n",
    "#                     values.append(biased[feat-1] if pic=='biased' else ours[feat-1])\n",
    "                    lst = biased if pic=='biased' else ours\n",
    "                    rk, cne = 1., 0.\n",
    "                    for j in range(5):\n",
    "                        rk += lst[feat-1] > lst[j]\n",
    "                        cne += lst[feat-1] == lst[j]\n",
    "                    tong.append(rk+(cne-1)/2)\n",
    "                values.append(np.array(tong).mean())\n",
    "            plt.plot(values)\n",
    "        plt.legend([f'X{i}' for i in range(1,6)])\n",
    "        plt.show()"
   ]
  },
  {
   "cell_type": "code",
   "execution_count": null,
   "id": "b314329b",
   "metadata": {},
   "outputs": [],
   "source": []
  },
  {
   "cell_type": "code",
   "execution_count": 1,
   "id": "284ec99a",
   "metadata": {},
   "outputs": [],
   "source": [
    "import pandas as pd\n",
    "import numpy as np\n",
    "import random\n",
    "import lightgbm as lgb\n",
    "import xgboost as xgb\n",
    "from copy import deepcopy\n",
    "import UnbiasedGain"
   ]
  },
  {
   "cell_type": "code",
   "execution_count": 2,
   "id": "999d0361",
   "metadata": {},
   "outputs": [],
   "source": [
    "def gen_data(N, rho, task):\n",
    "    X1 = np.random.randn(N)\n",
    "    X2 = [random.randint(0,1) for i in range(N)]\n",
    "    X3 = [random.randint(0,3) for i in range(N)]\n",
    "    X4 = [random.randint(0,9) for i in range(N)]\n",
    "    X5 = [random.randint(0,19) for i in range(N)]\n",
    "    y = rho*(np.array(X2)-0.5) + np.random.randn(N) if task=='regression' else [(i + (1 if random.random()>(1+rho)/2 else 0) )%2 for i in X2]\n",
    "    \n",
    "    X_train = pd.DataFrame({'X1':X1, 'X2':X2, 'X3':X3, 'X4':X4, 'X5':X5})\n",
    "    y_train = pd.Series(y)\n",
    "\n",
    "    return X_train, y_train"
   ]
  },
  {
   "cell_type": "code",
   "execution_count": 5,
   "id": "755c840c",
   "metadata": {},
   "outputs": [
    {
     "name": "stdout",
     "output_type": "stream",
     "text": [
      "0    -0.580919\n",
      "1     1.444863\n",
      "2    -0.580919\n",
      "3     1.444863\n",
      "4     1.444863\n",
      "5     1.444863\n",
      "6    -0.580919\n",
      "7     1.444863\n",
      "8    -0.580919\n",
      "9     1.444863\n",
      "10    1.444863\n",
      "11   -0.580919\n",
      "12   -0.580919\n",
      "13   -0.580919\n",
      "14    1.444863\n",
      "15   -0.580919\n",
      "Name: _pred, dtype: float64\n",
      "[0.0, 0.0, 0.0, 0.0, 0.0]\n"
     ]
    }
   ],
   "source": [
    "random.seed(2333)\n",
    "np.random.seed(666)\n",
    "\n",
    "task = 'regression'\n",
    "X_train, y_train = gen_data(8, 10, task)\n",
    "X_test, y_test = gen_data(8, 10, task)\n",
    "model = (xgb.XGBRegressor if task=='regression' else xgb.XGBClassifier)(n_estimators=3, learning_rate=0.1)\n",
    "model.fit(X_train, y_train)\n",
    "pred = model.predict(X_test) if task=='regression' else model.predict_proba(X_test)[:,1]\n",
    "\n",
    "losstool = UnbiasedGain.MSE_tool() if task=='regression' else UnbiasedGain.logloss_tool()\n",
    "# print(UnbiasedGain.calc_gain(model, X_train, y_train, X_test, y_test, losstool, biased=True))\n",
    "print(UnbiasedGain.calc_gain(model, X_train, y_train, X_test, y_test, losstool, biased=False))\n",
    "\n"
   ]
  },
  {
   "cell_type": "code",
   "execution_count": 6,
   "id": "2dbf0749",
   "metadata": {},
   "outputs": [
    {
     "data": {
      "text/plain": [
       "array([-0.5809186,  1.444863 ,  1.444863 , -0.5809186, -0.5809186,\n",
       "       -0.5809186,  1.444863 , -0.5809186], dtype=float32)"
      ]
     },
     "execution_count": 6,
     "metadata": {},
     "output_type": "execute_result"
    }
   ],
   "source": [
    "model.predict(X_test)\n",
    "# X_train"
   ]
  },
  {
   "cell_type": "code",
   "execution_count": 7,
   "id": "c43891e8",
   "metadata": {},
   "outputs": [
    {
     "name": "stdout",
     "output_type": "stream",
     "text": [
      "0:[X2<1] yes=1,no=2,missing=1\n",
      "\t1:leaf=-0.388732255\n",
      "\t2:leaf=0.342721045\n",
      "\n"
     ]
    }
   ],
   "source": [
    "dmp = model.get_booster().get_dump()\n",
    "print(dmp[0])"
   ]
  },
  {
   "cell_type": "code",
   "execution_count": 40,
   "id": "9052d505",
   "metadata": {},
   "outputs": [
    {
     "data": {
      "text/plain": [
       "(         X1  X2  X3  X4  X5\n",
       " 0  0.824188   0   0   1  14\n",
       " 1  0.479966   1   3   3  14\n",
       " 2  1.173468   0   2   2   3\n",
       " 3  0.909048   1   0   3  17\n",
       " 4 -0.571721   1   3   7  17\n",
       " 5 -0.109497   1   3   8  12\n",
       " 6  0.019028   0   1   0  11\n",
       " 7 -0.943761   1   3   9  14,\n",
       " 0    0\n",
       " 1    1\n",
       " 2    0\n",
       " 3    1\n",
       " 4    1\n",
       " 5    1\n",
       " 6    0\n",
       " 7    1\n",
       " dtype: int64,\n",
       " 0.625)"
      ]
     },
     "execution_count": 40,
     "metadata": {},
     "output_type": "execute_result"
    }
   ],
   "source": [
    "X_train, y_train, y_train.mean()"
   ]
  },
  {
   "cell_type": "code",
   "execution_count": 3,
   "id": "a18ce710",
   "metadata": {},
   "outputs": [
    {
     "name": "stdout",
     "output_type": "stream",
     "text": [
      "0     0.170752\n",
      "1     0.320752\n",
      "2     0.170752\n",
      "3     0.170752\n",
      "4     0.320752\n",
      "5     0.320752\n",
      "6     0.170752\n",
      "7     0.320752\n",
      "8     0.170752\n",
      "9     0.170752\n",
      "10    0.320752\n",
      "11    0.170752\n",
      "12    0.170752\n",
      "13    0.170752\n",
      "14    0.170752\n",
      "15    0.170752\n",
      "Name: _pred, dtype: float64\n",
      "[0.0, 0.0, 4.5, 0.0, 0.0]\n",
      "0     0.170752\n",
      "1     0.320752\n",
      "2     0.170752\n",
      "3     0.170752\n",
      "4     0.320752\n",
      "5     0.320752\n",
      "6     0.170752\n",
      "7     0.320752\n",
      "8     0.170752\n",
      "9     0.170752\n",
      "10    0.320752\n",
      "11    0.170752\n",
      "12    0.170752\n",
      "13    0.170752\n",
      "14    0.170752\n",
      "15    0.170752\n",
      "Name: _pred, dtype: float64\n",
      "[0.0, 0.0, 0.0, 0.0, 0.0]\n"
     ]
    }
   ],
   "source": [
    "random.seed(2333)\n",
    "np.random.seed(666)\n",
    "\n",
    "task = 'binclass'\n",
    "X_train, y_train = gen_data(8, 1, task)\n",
    "X_test, y_test = gen_data(8, 1, task)\n",
    "model = (xgb.XGBRegressor if task=='regression' else xgb.XGBClassifier)(n_estimators=10, learning_rate=0.1)\n",
    "model.fit(X_train, y_train)\n",
    "pred = model.predict(X_test) if task=='regression' else model.predict_proba(X_test)[:,1]\n",
    "\n",
    "losstool = UnbiasedGain.MSE_tool() if task=='regression' else UnbiasedGain.logloss_tool()\n",
    "# print(UnbiasedGain.calc_gain(model, X_train, y_train, X_test, y_test, losstool, biased=True))\n",
    "print(UnbiasedGain.calc_gain(model, X_train, y_train, X_test, y_test, losstool, biased=False))\n",
    "\n"
   ]
  },
  {
   "cell_type": "code",
   "execution_count": 4,
   "id": "6800fbb0",
   "metadata": {},
   "outputs": [
    {
     "data": {
      "text/plain": [
       "array([[0.45741528, 0.5425847 ],\n",
       "       [0.45741528, 0.5425847 ],\n",
       "       [0.4204924 , 0.5795076 ],\n",
       "       [0.45741528, 0.5425847 ],\n",
       "       [0.45741528, 0.5425847 ],\n",
       "       [0.45741528, 0.5425847 ],\n",
       "       [0.45741528, 0.5425847 ],\n",
       "       [0.45741528, 0.5425847 ]], dtype=float32)"
      ]
     },
     "execution_count": 4,
     "metadata": {},
     "output_type": "execute_result"
    }
   ],
   "source": [
    "model.predict_proba(X_test)"
   ]
  },
  {
   "cell_type": "code",
   "execution_count": 66,
   "id": "774112f2",
   "metadata": {},
   "outputs": [],
   "source": [
    "dmp = model.get_booster().get_dump()"
   ]
  },
  {
   "cell_type": "code",
   "execution_count": 67,
   "id": "29b437e3",
   "metadata": {},
   "outputs": [
    {
     "name": "stdout",
     "output_type": "stream",
     "text": [
      "10\n"
     ]
    }
   ],
   "source": [
    "print(len(dmp))"
   ]
  },
  {
   "cell_type": "code",
   "execution_count": 68,
   "id": "2a1e0833",
   "metadata": {},
   "outputs": [
    {
     "name": "stdout",
     "output_type": "stream",
     "text": [
      "0:[X1<0.951731563] yes=1,no=2,missing=1\n",
      "\t1:[X1<0.278041452] yes=3,no=4,missing=3\n",
      "\t\t3:[X1<-2.38552904] yes=7,no=8,missing=7\n",
      "\t\t\t7:[X1<-2.99372101] yes=15,no=16,missing=15\n",
      "\t\t\t\t15:[X1<-3.09939337] yes=29,no=30,missing=29\n",
      "\t\t\t\t\t29:leaf=-0.0497839861\n",
      "\t\t\t\t\t30:leaf=0.01966816\n",
      "\t\t\t\t16:[X2<1] yes=31,no=32,missing=31\n",
      "\t\t\t\t\t31:leaf=-0.140184015\n",
      "\t\t\t\t\t32:[X5<5] yes=53,no=54,missing=53\n",
      "\t\t\t\t\t\t53:leaf=-0.116656832\n",
      "\t\t\t\t\t\t54:leaf=-0.0427377373\n",
      "\t\t\t8:[X4<9] yes=17,no=18,missing=17\n",
      "\t\t\t\t17:[X1<-2.17010808] yes=33,no=34,missing=33\n",
      "\t\t\t\t\t33:[X5<13] yes=55,no=56,missing=55\n",
      "\t\t\t\t\t\t55:leaf=0.0147509528\n",
      "\t\t\t\t\t\t56:leaf=-0.064877525\n",
      "\t\t\t\t\t34:[X1<-1.94027448] yes=57,no=58,missing=57\n",
      "\t\t\t\t\t\t57:leaf=-0.0868694112\n",
      "\t\t\t\t\t\t58:leaf=-0.0517246425\n",
      "\t\t\t\t18:[X5<16] yes=35,no=36,missing=35\n",
      "\t\t\t\t\t35:[X3<3] yes=59,no=60,missing=59\n",
      "\t\t\t\t\t\t59:leaf=-0.0688411817\n",
      "\t\t\t\t\t\t60:leaf=-0.0235054567\n",
      "\t\t\t\t\t36:[X1<-0.269213647] yes=61,no=62,missing=61\n",
      "\t\t\t\t\t\t61:leaf=-0.0625419021\n",
      "\t\t\t\t\t\t62:leaf=-0.155203387\n",
      "\t\t4:[X1<0.294585407] yes=9,no=10,missing=9\n",
      "\t\t\t9:[X1<0.287718743] yes=19,no=20,missing=19\n",
      "\t\t\t\t19:[X1<0.282183647] yes=37,no=38,missing=37\n",
      "\t\t\t\t\t37:[X3<2] yes=63,no=64,missing=63\n",
      "\t\t\t\t\t\t63:leaf=0.0458105132\n",
      "\t\t\t\t\t\t64:leaf=0.00246306369\n",
      "\t\t\t\t\t38:[X2<1] yes=65,no=66,missing=65\n",
      "\t\t\t\t\t\t65:leaf=-0.0734206811\n",
      "\t\t\t\t\t\t66:leaf=0.00405026879\n",
      "\t\t\t\t20:leaf=0.0940914303\n",
      "\t\t\t10:[X5<1] yes=21,no=22,missing=21\n",
      "\t\t\t\t21:[X4<6] yes=39,no=40,missing=39\n",
      "\t\t\t\t\t39:[X1<0.331899196] yes=67,no=68,missing=67\n",
      "\t\t\t\t\t\t67:leaf=-0.0572952405\n",
      "\t\t\t\t\t\t68:leaf=0.0452849343\n",
      "\t\t\t\t\t40:[X1<0.344043791] yes=69,no=70,missing=69\n",
      "\t\t\t\t\t\t69:leaf=0.0462165624\n",
      "\t\t\t\t\t\t70:leaf=-0.0423310995\n",
      "\t\t\t\t22:[X1<0.305628061] yes=41,no=42,missing=41\n",
      "\t\t\t\t\t41:[X1<0.297574282] yes=71,no=72,missing=71\n",
      "\t\t\t\t\t\t71:leaf=-0.0251490455\n",
      "\t\t\t\t\t\t72:leaf=-0.154806331\n",
      "\t\t\t\t\t42:[X1<0.843101382] yes=73,no=74,missing=73\n",
      "\t\t\t\t\t\t73:leaf=-0.0440831371\n",
      "\t\t\t\t\t\t74:leaf=-0.018958522\n",
      "\t2:[X5<1] yes=5,no=6,missing=5\n",
      "\t\t5:[X4<7] yes=11,no=12,missing=11\n",
      "\t\t\t11:[X4<2] yes=23,no=24,missing=23\n",
      "\t\t\t\t23:leaf=-0.0299284216\n",
      "\t\t\t\t24:[X1<1.28193128] yes=43,no=44,missing=43\n",
      "\t\t\t\t\t43:[X1<1.24328637] yes=75,no=76,missing=75\n",
      "\t\t\t\t\t\t75:leaf=0.012295437\n",
      "\t\t\t\t\t\t76:leaf=-0.0108276997\n",
      "\t\t\t\t\t44:leaf=0.100004032\n",
      "\t\t\t12:[X4<8] yes=25,no=26,missing=25\n",
      "\t\t\t\t25:[X1<1.44963408] yes=45,no=46,missing=45\n",
      "\t\t\t\t\t45:leaf=0.00079957844\n",
      "\t\t\t\t\t46:leaf=-0.00536108762\n",
      "\t\t\t\t26:[X1<1.24055672] yes=47,no=48,missing=47\n",
      "\t\t\t\t\t47:[X1<1.0832386] yes=77,no=78,missing=77\n",
      "\t\t\t\t\t\t77:leaf=-0.0414972529\n",
      "\t\t\t\t\t\t78:leaf=0.00507215085\n",
      "\t\t\t\t\t48:leaf=-0.0615663007\n",
      "\t\t6:[X1<0.957418203] yes=13,no=14,missing=13\n",
      "\t\t\t13:leaf=-0.221379623\n",
      "\t\t\t14:[X3<2] yes=27,no=28,missing=27\n",
      "\t\t\t\t27:[X5<12] yes=49,no=50,missing=49\n",
      "\t\t\t\t\t49:[X1<1.21997094] yes=79,no=80,missing=79\n",
      "\t\t\t\t\t\t79:leaf=-0.0750956535\n",
      "\t\t\t\t\t\t80:leaf=-0.117418408\n",
      "\t\t\t\t\t50:[X4<2] yes=81,no=82,missing=81\n",
      "\t\t\t\t\t\t81:leaf=-0.0114708217\n",
      "\t\t\t\t\t\t82:leaf=-0.0739123449\n",
      "\t\t\t\t28:[X5<5] yes=51,no=52,missing=51\n",
      "\t\t\t\t\t51:[X1<1.90078795] yes=83,no=84,missing=83\n",
      "\t\t\t\t\t\t83:leaf=-0.0251779463\n",
      "\t\t\t\t\t\t84:leaf=-0.0756172538\n",
      "\t\t\t\t\t52:[X4<8] yes=85,no=86,missing=85\n",
      "\t\t\t\t\t\t85:leaf=-0.0740017891\n",
      "\t\t\t\t\t\t86:leaf=-0.0348324515\n",
      "\n"
     ]
    }
   ],
   "source": [
    "print(dmp[0])"
   ]
  },
  {
   "cell_type": "code",
   "execution_count": 69,
   "id": "797341e6",
   "metadata": {},
   "outputs": [],
   "source": [
    "def convert_str_to_tree(s):\n",
    "    # a node should be {'split_feature':?, 'decision_type':'<', 'threshold':?, 'default_left':True}\n",
    "    # if leaf, 'leaf_value':?;  else, 'left_child':?,'right_child':?\n",
    "    stack = []\n",
    "    def pop_back(stack):\n",
    "        if 'left_child' in stack[-2][1]: stack[-2][1]['right_child'] = stack[-1][1]\n",
    "        else: stack[-2][1]['left_child'] = stack[-1][1]\n",
    "        return stack[:-1]\n",
    "    \n",
    "    for line in s.split('\\n'):\n",
    "        if len(line)<1: continue\n",
    "        cnt = sum([int(o=='\\t') for o in line])\n",
    "        while len(stack) and cnt<=stack[-1][0]:\n",
    "            stack = pop_back(stack)\n",
    "        if '[' in line:\n",
    "            keys = line.split('[')[-1].split(']')[0]\n",
    "            node = {'split_feature':keys.split('<')[0], 'decision_type':'<', 'threshold':keys.split('<')[1], 'default_left':True}\n",
    "        else:\n",
    "            value = float(line.split('=')[-1])\n",
    "            node = {'leaf_value':value, 'leaf_weight':None, 'leaf_count':None}\n",
    "        stack.append((cnt, node))\n",
    "    \n",
    "    while len(stack)>=2:\n",
    "        stack = pop_back(stack)\n",
    "    \n",
    "    return stack[0][1]"
   ]
  },
  {
   "cell_type": "code",
   "execution_count": 70,
   "id": "a102c96a",
   "metadata": {},
   "outputs": [
    {
     "data": {
      "text/plain": [
       "{'split_feature': 'X1',\n",
       " 'decision_type': '<',\n",
       " 'threshold': '0.951731563',\n",
       " 'default_left': True,\n",
       " 'left_child': {'split_feature': 'X1',\n",
       "  'decision_type': '<',\n",
       "  'threshold': '0.278041452',\n",
       "  'default_left': True,\n",
       "  'left_child': {'split_feature': 'X1',\n",
       "   'decision_type': '<',\n",
       "   'threshold': '-2.38552904',\n",
       "   'default_left': True,\n",
       "   'left_child': {'split_feature': 'X1',\n",
       "    'decision_type': '<',\n",
       "    'threshold': '-2.99372101',\n",
       "    'default_left': True,\n",
       "    'left_child': {'split_feature': 'X1',\n",
       "     'decision_type': '<',\n",
       "     'threshold': '-3.09939337',\n",
       "     'default_left': True,\n",
       "     'left_child': {'leaf_value': -0.0497839861,\n",
       "      'leaf_weight': None,\n",
       "      'leaf_count': None},\n",
       "     'right_child': {'leaf_value': 0.01966816,\n",
       "      'leaf_weight': None,\n",
       "      'leaf_count': None}},\n",
       "    'right_child': {'split_feature': 'X2',\n",
       "     'decision_type': '<',\n",
       "     'threshold': '1',\n",
       "     'default_left': True,\n",
       "     'left_child': {'leaf_value': -0.140184015,\n",
       "      'leaf_weight': None,\n",
       "      'leaf_count': None},\n",
       "     'right_child': {'split_feature': 'X5',\n",
       "      'decision_type': '<',\n",
       "      'threshold': '5',\n",
       "      'default_left': True,\n",
       "      'left_child': {'leaf_value': -0.116656832,\n",
       "       'leaf_weight': None,\n",
       "       'leaf_count': None},\n",
       "      'right_child': {'leaf_value': -0.0427377373,\n",
       "       'leaf_weight': None,\n",
       "       'leaf_count': None}}}},\n",
       "   'right_child': {'split_feature': 'X4',\n",
       "    'decision_type': '<',\n",
       "    'threshold': '9',\n",
       "    'default_left': True,\n",
       "    'left_child': {'split_feature': 'X1',\n",
       "     'decision_type': '<',\n",
       "     'threshold': '-2.17010808',\n",
       "     'default_left': True,\n",
       "     'left_child': {'split_feature': 'X5',\n",
       "      'decision_type': '<',\n",
       "      'threshold': '13',\n",
       "      'default_left': True,\n",
       "      'left_child': {'leaf_value': 0.0147509528,\n",
       "       'leaf_weight': None,\n",
       "       'leaf_count': None},\n",
       "      'right_child': {'leaf_value': -0.064877525,\n",
       "       'leaf_weight': None,\n",
       "       'leaf_count': None}},\n",
       "     'right_child': {'split_feature': 'X1',\n",
       "      'decision_type': '<',\n",
       "      'threshold': '-1.94027448',\n",
       "      'default_left': True,\n",
       "      'left_child': {'leaf_value': -0.0868694112,\n",
       "       'leaf_weight': None,\n",
       "       'leaf_count': None},\n",
       "      'right_child': {'leaf_value': -0.0517246425,\n",
       "       'leaf_weight': None,\n",
       "       'leaf_count': None}}},\n",
       "    'right_child': {'split_feature': 'X5',\n",
       "     'decision_type': '<',\n",
       "     'threshold': '16',\n",
       "     'default_left': True,\n",
       "     'left_child': {'split_feature': 'X3',\n",
       "      'decision_type': '<',\n",
       "      'threshold': '3',\n",
       "      'default_left': True,\n",
       "      'left_child': {'leaf_value': -0.0688411817,\n",
       "       'leaf_weight': None,\n",
       "       'leaf_count': None},\n",
       "      'right_child': {'leaf_value': -0.0235054567,\n",
       "       'leaf_weight': None,\n",
       "       'leaf_count': None}},\n",
       "     'right_child': {'split_feature': 'X1',\n",
       "      'decision_type': '<',\n",
       "      'threshold': '-0.269213647',\n",
       "      'default_left': True,\n",
       "      'left_child': {'leaf_value': -0.0625419021,\n",
       "       'leaf_weight': None,\n",
       "       'leaf_count': None},\n",
       "      'right_child': {'leaf_value': -0.155203387,\n",
       "       'leaf_weight': None,\n",
       "       'leaf_count': None}}}}},\n",
       "  'right_child': {'split_feature': 'X1',\n",
       "   'decision_type': '<',\n",
       "   'threshold': '0.294585407',\n",
       "   'default_left': True,\n",
       "   'left_child': {'split_feature': 'X1',\n",
       "    'decision_type': '<',\n",
       "    'threshold': '0.287718743',\n",
       "    'default_left': True,\n",
       "    'left_child': {'split_feature': 'X1',\n",
       "     'decision_type': '<',\n",
       "     'threshold': '0.282183647',\n",
       "     'default_left': True,\n",
       "     'left_child': {'split_feature': 'X3',\n",
       "      'decision_type': '<',\n",
       "      'threshold': '2',\n",
       "      'default_left': True,\n",
       "      'left_child': {'leaf_value': 0.0458105132,\n",
       "       'leaf_weight': None,\n",
       "       'leaf_count': None},\n",
       "      'right_child': {'leaf_value': 0.00246306369,\n",
       "       'leaf_weight': None,\n",
       "       'leaf_count': None}},\n",
       "     'right_child': {'split_feature': 'X2',\n",
       "      'decision_type': '<',\n",
       "      'threshold': '1',\n",
       "      'default_left': True,\n",
       "      'left_child': {'leaf_value': -0.0734206811,\n",
       "       'leaf_weight': None,\n",
       "       'leaf_count': None},\n",
       "      'right_child': {'leaf_value': 0.00405026879,\n",
       "       'leaf_weight': None,\n",
       "       'leaf_count': None}}},\n",
       "    'right_child': {'leaf_value': 0.0940914303,\n",
       "     'leaf_weight': None,\n",
       "     'leaf_count': None}},\n",
       "   'right_child': {'split_feature': 'X5',\n",
       "    'decision_type': '<',\n",
       "    'threshold': '1',\n",
       "    'default_left': True,\n",
       "    'left_child': {'split_feature': 'X4',\n",
       "     'decision_type': '<',\n",
       "     'threshold': '6',\n",
       "     'default_left': True,\n",
       "     'left_child': {'split_feature': 'X1',\n",
       "      'decision_type': '<',\n",
       "      'threshold': '0.331899196',\n",
       "      'default_left': True,\n",
       "      'left_child': {'leaf_value': -0.0572952405,\n",
       "       'leaf_weight': None,\n",
       "       'leaf_count': None},\n",
       "      'right_child': {'leaf_value': 0.0452849343,\n",
       "       'leaf_weight': None,\n",
       "       'leaf_count': None}},\n",
       "     'right_child': {'split_feature': 'X1',\n",
       "      'decision_type': '<',\n",
       "      'threshold': '0.344043791',\n",
       "      'default_left': True,\n",
       "      'left_child': {'leaf_value': 0.0462165624,\n",
       "       'leaf_weight': None,\n",
       "       'leaf_count': None},\n",
       "      'right_child': {'leaf_value': -0.0423310995,\n",
       "       'leaf_weight': None,\n",
       "       'leaf_count': None}}},\n",
       "    'right_child': {'split_feature': 'X1',\n",
       "     'decision_type': '<',\n",
       "     'threshold': '0.305628061',\n",
       "     'default_left': True,\n",
       "     'left_child': {'split_feature': 'X1',\n",
       "      'decision_type': '<',\n",
       "      'threshold': '0.297574282',\n",
       "      'default_left': True,\n",
       "      'left_child': {'leaf_value': -0.0251490455,\n",
       "       'leaf_weight': None,\n",
       "       'leaf_count': None},\n",
       "      'right_child': {'leaf_value': -0.154806331,\n",
       "       'leaf_weight': None,\n",
       "       'leaf_count': None}},\n",
       "     'right_child': {'split_feature': 'X1',\n",
       "      'decision_type': '<',\n",
       "      'threshold': '0.843101382',\n",
       "      'default_left': True,\n",
       "      'left_child': {'leaf_value': -0.0440831371,\n",
       "       'leaf_weight': None,\n",
       "       'leaf_count': None},\n",
       "      'right_child': {'leaf_value': -0.018958522,\n",
       "       'leaf_weight': None,\n",
       "       'leaf_count': None}}}}}},\n",
       " 'right_child': {'split_feature': 'X5',\n",
       "  'decision_type': '<',\n",
       "  'threshold': '1',\n",
       "  'default_left': True,\n",
       "  'left_child': {'split_feature': 'X4',\n",
       "   'decision_type': '<',\n",
       "   'threshold': '7',\n",
       "   'default_left': True,\n",
       "   'left_child': {'split_feature': 'X4',\n",
       "    'decision_type': '<',\n",
       "    'threshold': '2',\n",
       "    'default_left': True,\n",
       "    'left_child': {'leaf_value': -0.0299284216,\n",
       "     'leaf_weight': None,\n",
       "     'leaf_count': None},\n",
       "    'right_child': {'split_feature': 'X1',\n",
       "     'decision_type': '<',\n",
       "     'threshold': '1.28193128',\n",
       "     'default_left': True,\n",
       "     'left_child': {'split_feature': 'X1',\n",
       "      'decision_type': '<',\n",
       "      'threshold': '1.24328637',\n",
       "      'default_left': True,\n",
       "      'left_child': {'leaf_value': 0.012295437,\n",
       "       'leaf_weight': None,\n",
       "       'leaf_count': None},\n",
       "      'right_child': {'leaf_value': -0.0108276997,\n",
       "       'leaf_weight': None,\n",
       "       'leaf_count': None}},\n",
       "     'right_child': {'leaf_value': 0.100004032,\n",
       "      'leaf_weight': None,\n",
       "      'leaf_count': None}}},\n",
       "   'right_child': {'split_feature': 'X4',\n",
       "    'decision_type': '<',\n",
       "    'threshold': '8',\n",
       "    'default_left': True,\n",
       "    'left_child': {'split_feature': 'X1',\n",
       "     'decision_type': '<',\n",
       "     'threshold': '1.44963408',\n",
       "     'default_left': True,\n",
       "     'left_child': {'leaf_value': 0.00079957844,\n",
       "      'leaf_weight': None,\n",
       "      'leaf_count': None},\n",
       "     'right_child': {'leaf_value': -0.00536108762,\n",
       "      'leaf_weight': None,\n",
       "      'leaf_count': None}},\n",
       "    'right_child': {'split_feature': 'X1',\n",
       "     'decision_type': '<',\n",
       "     'threshold': '1.24055672',\n",
       "     'default_left': True,\n",
       "     'left_child': {'split_feature': 'X1',\n",
       "      'decision_type': '<',\n",
       "      'threshold': '1.0832386',\n",
       "      'default_left': True,\n",
       "      'left_child': {'leaf_value': -0.0414972529,\n",
       "       'leaf_weight': None,\n",
       "       'leaf_count': None},\n",
       "      'right_child': {'leaf_value': 0.00507215085,\n",
       "       'leaf_weight': None,\n",
       "       'leaf_count': None}},\n",
       "     'right_child': {'leaf_value': -0.0615663007,\n",
       "      'leaf_weight': None,\n",
       "      'leaf_count': None}}}},\n",
       "  'right_child': {'split_feature': 'X1',\n",
       "   'decision_type': '<',\n",
       "   'threshold': '0.957418203',\n",
       "   'default_left': True,\n",
       "   'left_child': {'leaf_value': -0.221379623,\n",
       "    'leaf_weight': None,\n",
       "    'leaf_count': None},\n",
       "   'right_child': {'split_feature': 'X3',\n",
       "    'decision_type': '<',\n",
       "    'threshold': '2',\n",
       "    'default_left': True,\n",
       "    'left_child': {'split_feature': 'X5',\n",
       "     'decision_type': '<',\n",
       "     'threshold': '12',\n",
       "     'default_left': True,\n",
       "     'left_child': {'split_feature': 'X1',\n",
       "      'decision_type': '<',\n",
       "      'threshold': '1.21997094',\n",
       "      'default_left': True,\n",
       "      'left_child': {'leaf_value': -0.0750956535,\n",
       "       'leaf_weight': None,\n",
       "       'leaf_count': None},\n",
       "      'right_child': {'leaf_value': -0.117418408,\n",
       "       'leaf_weight': None,\n",
       "       'leaf_count': None}},\n",
       "     'right_child': {'split_feature': 'X4',\n",
       "      'decision_type': '<',\n",
       "      'threshold': '2',\n",
       "      'default_left': True,\n",
       "      'left_child': {'leaf_value': -0.0114708217,\n",
       "       'leaf_weight': None,\n",
       "       'leaf_count': None},\n",
       "      'right_child': {'leaf_value': -0.0739123449,\n",
       "       'leaf_weight': None,\n",
       "       'leaf_count': None}}},\n",
       "    'right_child': {'split_feature': 'X5',\n",
       "     'decision_type': '<',\n",
       "     'threshold': '5',\n",
       "     'default_left': True,\n",
       "     'left_child': {'split_feature': 'X1',\n",
       "      'decision_type': '<',\n",
       "      'threshold': '1.90078795',\n",
       "      'default_left': True,\n",
       "      'left_child': {'leaf_value': -0.0251779463,\n",
       "       'leaf_weight': None,\n",
       "       'leaf_count': None},\n",
       "      'right_child': {'leaf_value': -0.0756172538,\n",
       "       'leaf_weight': None,\n",
       "       'leaf_count': None}},\n",
       "     'right_child': {'split_feature': 'X4',\n",
       "      'decision_type': '<',\n",
       "      'threshold': '8',\n",
       "      'default_left': True,\n",
       "      'left_child': {'leaf_value': -0.0740017891,\n",
       "       'leaf_weight': None,\n",
       "       'leaf_count': None},\n",
       "      'right_child': {'leaf_value': -0.0348324515,\n",
       "       'leaf_weight': None,\n",
       "       'leaf_count': None}}}}}}}"
      ]
     },
     "execution_count": 70,
     "metadata": {},
     "output_type": "execute_result"
    }
   ],
   "source": [
    "convert_str_to_tree(dmp[0])"
   ]
  },
  {
   "cell_type": "code",
   "execution_count": 71,
   "id": "89e84d77",
   "metadata": {},
   "outputs": [
    {
     "data": {
      "text/plain": [
       "xgboost.sklearn.XGBRegressor"
      ]
     },
     "execution_count": 71,
     "metadata": {},
     "output_type": "execute_result"
    }
   ],
   "source": [
    "type(model)"
   ]
  },
  {
   "cell_type": "code",
   "execution_count": 72,
   "id": "ea5695e9",
   "metadata": {},
   "outputs": [
    {
     "data": {
      "text/plain": [
       "True"
      ]
     },
     "execution_count": 72,
     "metadata": {},
     "output_type": "execute_result"
    }
   ],
   "source": [
    "isinstance(model, xgb.sklearn.XGBRegressor)"
   ]
  },
  {
   "cell_type": "code",
   "execution_count": null,
   "id": "53f6a5f3",
   "metadata": {},
   "outputs": [],
   "source": []
  },
  {
   "cell_type": "code",
   "execution_count": null,
   "id": "e3960f48",
   "metadata": {},
   "outputs": [],
   "source": []
  }
 ],
 "metadata": {
  "kernelspec": {
   "display_name": "Python 3",
   "language": "python",
   "name": "python3"
  },
  "language_info": {
   "codemirror_mode": {
    "name": "ipython",
    "version": 3
   },
   "file_extension": ".py",
   "mimetype": "text/x-python",
   "name": "python",
   "nbconvert_exporter": "python",
   "pygments_lexer": "ipython3",
   "version": "3.10.9"
  }
 },
 "nbformat": 4,
 "nbformat_minor": 5
}
